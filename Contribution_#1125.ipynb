{
 "cells": [
  {
   "cell_type": "markdown",
   "id": "40eb65a6-d042-47ac-aa71-7f934533b47a",
   "metadata": {
    "pycharm": {
     "name": "#%% md\n"
    }
   },
   "source": [
    "## Change non-string attribute key from warning to error #1125"
   ]
  },
  {
   "cell_type": "markdown",
   "id": "b3a5a736-14f9-480a-946c-af52201136ae",
   "metadata": {
    "pycharm": {
     "name": "#%% md\n"
    }
   },
   "source": [
    "To avoid errors, it is best to specify a key attribute as a string data-type. Another issue occurred as a result of specifying a key attribute as a non-string data-type in the code below."
   ]
  },
  {
   "cell_type": "code",
   "execution_count": 37,
   "id": "fd3b1334-59a0-488a-ac71-af5a09598553",
   "metadata": {
    "pycharm": {
     "name": "#%%\n"
    }
   },
   "outputs": [
    {
     "ename": "KeyError",
     "evalue": "1",
     "output_type": "error",
     "traceback": [
      "\u001B[1;31m---------------------------------------------------------------------------\u001B[0m",
      "\u001B[1;31mKeyError\u001B[0m                                  Traceback (most recent call last)",
      "Cell \u001B[1;32mIn [37], line 4\u001B[0m\n\u001B[0;32m      2\u001B[0m z1 \u001B[38;5;241m=\u001B[39m zarr\u001B[38;5;241m.\u001B[39mopen(\u001B[38;5;124m'\u001B[39m\u001B[38;5;124mfile/note.zarr\u001B[39m\u001B[38;5;124m'\u001B[39m, mode\u001B[38;5;241m=\u001B[39m\u001B[38;5;124m'\u001B[39m\u001B[38;5;124mw\u001B[39m\u001B[38;5;124m'\u001B[39m, shape\u001B[38;5;241m=\u001B[39m(\u001B[38;5;241m8\u001B[39m, \u001B[38;5;241m10\u001B[39m), dtype\u001B[38;5;241m=\u001B[39m\u001B[38;5;124m'\u001B[39m\u001B[38;5;124mi4\u001B[39m\u001B[38;5;124m'\u001B[39m)\n\u001B[0;32m      3\u001B[0m z1\u001B[38;5;241m.\u001B[39mattrs\u001B[38;5;241m.\u001B[39mput({\u001B[38;5;241m1\u001B[39m: \u001B[38;5;124m\"\u001B[39m\u001B[38;5;124mbar\u001B[39m\u001B[38;5;124m\"\u001B[39m, \u001B[38;5;124m\"\u001B[39m\u001B[38;5;124mfoo\u001B[39m\u001B[38;5;124m\"\u001B[39m: \u001B[38;5;124m\"\u001B[39m\u001B[38;5;124mbar\u001B[39m\u001B[38;5;124m\"\u001B[39m})  \u001B[38;5;66;03m# Error\u001B[39;00m\n\u001B[1;32m----> 4\u001B[0m \u001B[43mz1\u001B[49m\u001B[38;5;241;43m.\u001B[39;49m\u001B[43mattrs\u001B[49m\u001B[43m[\u001B[49m\u001B[38;5;241;43m1\u001B[39;49m\u001B[43m]\u001B[49m\n",
      "File \u001B[1;32m~\\AppData\\Local\\Programs\\Python\\Python310\\lib\\site-packages\\zarr\\attrs.py:74\u001B[0m, in \u001B[0;36mAttributes.__getitem__\u001B[1;34m(self, item)\u001B[0m\n\u001B[0;32m     73\u001B[0m \u001B[38;5;28;01mdef\u001B[39;00m \u001B[38;5;21m__getitem__\u001B[39m(\u001B[38;5;28mself\u001B[39m, item):\n\u001B[1;32m---> 74\u001B[0m     \u001B[38;5;28;01mreturn\u001B[39;00m \u001B[38;5;28;43mself\u001B[39;49m\u001B[38;5;241;43m.\u001B[39;49m\u001B[43masdict\u001B[49m\u001B[43m(\u001B[49m\u001B[43m)\u001B[49m\u001B[43m[\u001B[49m\u001B[43mitem\u001B[49m\u001B[43m]\u001B[49m\n",
      "\u001B[1;31mKeyError\u001B[0m: 1"
     ]
    }
   ],
   "source": [
    "import zarr\n",
    "z1 = zarr.open('file/note.zarr', mode='w', shape=(8, 10), dtype='i4')\n",
    "z1.attrs.put({1: \"bar\", \"foo\": \"bar\"})  # Error\n",
    "z1.attrs[1]"
   ]
  },
  {
   "cell_type": "markdown",
   "id": "f12d2b48-0748-4a7d-af0d-8cfaf3156ade",
   "metadata": {
    "pycharm": {
     "name": "#%% md\n"
    }
   },
   "source": [
    "In this code, attempting to obtain the key of the following root file will result in a key error.\n",
    "The key should be defined as a string data type but not in non-string format."
   ]
  },
  {
   "cell_type": "code",
   "execution_count": 38,
   "id": "91c5eb88-308d-4144-a085-b620831ed537",
   "metadata": {
    "pycharm": {
     "name": "#%%\n"
    }
   },
   "outputs": [
    {
     "ename": "KeyError",
     "evalue": "1",
     "output_type": "error",
     "traceback": [
      "\u001B[1;31m---------------------------------------------------------------------------\u001B[0m",
      "\u001B[1;31mKeyError\u001B[0m                                  Traceback (most recent call last)",
      "Cell \u001B[1;32mIn [38], line 7\u001B[0m\n\u001B[0;32m      5\u001B[0m z1\u001B[38;5;241m.\u001B[39mattrs[\u001B[38;5;124m'\u001B[39m\u001B[38;5;124mjar\u001B[39m\u001B[38;5;124m'\u001B[39m] \u001B[38;5;241m=\u001B[39m \u001B[38;5;241m72\u001B[39m\n\u001B[0;32m      6\u001B[0m z1\u001B[38;5;241m.\u001B[39mattrs[\u001B[38;5;124m'\u001B[39m\u001B[38;5;124mhol\u001B[39m\u001B[38;5;124m'\u001B[39m] \u001B[38;5;241m=\u001B[39m \u001B[38;5;241m91\u001B[39m\n\u001B[1;32m----> 7\u001B[0m \u001B[43mroot\u001B[49m\u001B[38;5;241;43m.\u001B[39;49m\u001B[43mattrs\u001B[49m\u001B[43m[\u001B[49m\u001B[38;5;241;43m1\u001B[39;49m\u001B[43m]\u001B[49m\n",
      "File \u001B[1;32m~\\AppData\\Local\\Programs\\Python\\Python310\\lib\\site-packages\\zarr\\attrs.py:74\u001B[0m, in \u001B[0;36mAttributes.__getitem__\u001B[1;34m(self, item)\u001B[0m\n\u001B[0;32m     73\u001B[0m \u001B[38;5;28;01mdef\u001B[39;00m \u001B[38;5;21m__getitem__\u001B[39m(\u001B[38;5;28mself\u001B[39m, item):\n\u001B[1;32m---> 74\u001B[0m     \u001B[38;5;28;01mreturn\u001B[39;00m \u001B[38;5;28;43mself\u001B[39;49m\u001B[38;5;241;43m.\u001B[39;49m\u001B[43masdict\u001B[49m\u001B[43m(\u001B[49m\u001B[43m)\u001B[49m\u001B[43m[\u001B[49m\u001B[43mitem\u001B[49m\u001B[43m]\u001B[49m\n",
      "\u001B[1;31mKeyError\u001B[0m: 1"
     ]
    }
   ],
   "source": [
    "import zarr\n",
    "root = zarr.group()\n",
    "root.attrs[1] = \"bar\"\n",
    "z1 = root.zeros('zoo', shape=(10000, 10000))\n",
    "z1.attrs['jar'] = 72\n",
    "z1.attrs['hol'] = 91\n",
    "root.attrs[1]"
   ]
  },
  {
   "cell_type": "markdown",
   "id": "d8e43a53-a5f4-4f5d-a6ff-fa7501942294",
   "metadata": {
    "pycharm": {
     "name": "#%% md\n"
    }
   },
   "source": [
    "The proper format of the code written above is shown below."
   ]
  },
  {
   "cell_type": "code",
   "execution_count": 35,
   "id": "980417c9-d8d4-401b-ba2b-ac46bba69664",
   "metadata": {
    "pycharm": {
     "name": "#%%\n"
    }
   },
   "outputs": [
    {
     "data": {
      "text/plain": [
       "'bar'"
      ]
     },
     "execution_count": 35,
     "metadata": {},
     "output_type": "execute_result"
    }
   ],
   "source": [
    "import zarr\n",
    "z1 = zarr.open('file/note.zarr', mode='w', shape=(8, 10), dtype='i4')\n",
    "z1.attrs.put({'1': \"bar\", \"foo\": \"bar\"})  # Error\n",
    "z1.attrs['1']"
   ]
  },
  {
   "cell_type": "code",
   "execution_count": 40,
   "id": "bb396706-535b-4436-bf4d-c17fd02b6dbc",
   "metadata": {
    "pycharm": {
     "name": "#%%\n"
    }
   },
   "outputs": [
    {
     "data": {
      "text/plain": [
       "'bar'"
      ]
     },
     "execution_count": 40,
     "metadata": {},
     "output_type": "execute_result"
    }
   ],
   "source": [
    "import zarr\n",
    "root = zarr.group()\n",
    "root.attrs['1'] = \"bar\"\n",
    "z1 = root.zeros('zoo', shape=(10000, 10000))\n",
    "z1.attrs['bar'] = 72\n",
    "z1.attrs['hol'] = 91\n",
    "root.attrs['1']"
   ]
  },
  {
   "cell_type": "code",
   "execution_count": null,
   "id": "4210ce80-04c2-4331-a726-d799ef118768",
   "metadata": {
    "pycharm": {
     "name": "#%%\n"
    }
   },
   "outputs": [],
   "source": []
  }
 ],
 "metadata": {
  "kernelspec": {
   "display_name": "Python 3 (ipykernel)",
   "language": "python",
   "name": "python3"
  },
  "language_info": {
   "codemirror_mode": {
    "name": "ipython",
    "version": 3
   },
   "file_extension": ".py",
   "mimetype": "text/x-python",
   "name": "python",
   "nbconvert_exporter": "python",
   "pygments_lexer": "ipython3",
   "version": "3.10.5"
  }
 },
 "nbformat": 4,
 "nbformat_minor": 5
}