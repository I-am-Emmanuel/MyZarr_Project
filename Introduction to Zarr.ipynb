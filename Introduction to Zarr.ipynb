{
 "cells": [
  {
   "cell_type": "markdown",
   "id": "1354f5fc-4834-4f79-86c0-cb8a8beec8cd",
   "metadata": {
    "pycharm": {
     "name": "#%% md\n"
    }
   },
   "source": [
    "#### Introduction to Zarr"
   ]
  },
  {
   "cell_type": "markdown",
   "id": "fa698dcf-0dfe-460d-8f48-4339cef49401",
   "metadata": {
    "pycharm": {
     "name": "#%% md\n"
    }
   },
   "source": [
    "Learning Objectives: By the end of this lesson, students should be able to determine Zarr's goal.\n",
    "(ii) Have the ability to install and run zarr on their workstation."
   ]
  },
  {
   "cell_type": "markdown",
   "id": "1d085f83-8b35-465b-94a1-6d0a7fd8bb99",
   "metadata": {
    "pycharm": {
     "name": "#%% md\n"
    }
   },
   "source": [
    "##### What is Zarr?"
   ]
  },
  {
   "cell_type": "markdown",
   "id": "cf0887ad-356d-4c36-962c-676512d3d1a3",
   "metadata": {
    "pycharm": {
     "name": "#%% md\n"
    }
   },
   "source": [
    "Zarr is a Python package for creating compressed, chunked N-dimensional arrays for parallel computation. It is a file format that is used to store chunked, compressed N-dimensional arrays. The initial launch raster API or the newer multidimensional API can be utilized to read and write to this format."
   ]
  },
  {
   "cell_type": "markdown",
   "id": "76df75a3-82ea-4c51-92e1-8a9adaac7cd6",
   "metadata": {
    "pycharm": {
     "name": "#%% md\n"
    }
   },
   "source": [
    "##### Installing Zarr"
   ]
  },
  {
   "cell_type": "markdown",
   "id": "6c77e9d8-97b9-4322-835b-ee188bf8dc52",
   "metadata": {
    "pycharm": {
     "name": "#%% md\n"
    }
   },
   "source": [
    "###### To install Zarr on your working environment;"
   ]
  },
  {
   "cell_type": "markdown",
   "id": "ae778750-f467-48ec-81b9-0023fd39aae6",
   "metadata": {
    "pycharm": {
     "name": "#%% md\n"
    }
   },
   "source": [
    "If you are not using Anaconda, put the text below into your terminal.\n",
    "\n",
    "\n",
    "---> pip install jupyter\n",
    "\n",
    "\n",
    "After a successful installation, enter the line below to access your jupyter notebook from your IDE terminal.\n",
    "\n",
    "\n",
    "---> jupyter-lab \n",
    "\n",
    "\n",
    "You will be transferred to your browser, where you may access jupyter notebook\n",
    "\n",
    "###### If you use Anaconda as your workstation(IDE) or you have jupyter istalled already, put the text below into your terminal.\n",
    "---> pip install zarr \n",
    "###### Alternative installation via conda\n",
    "---> conda install -c conda-forge zarr\n",
    "###### To verify that Zarr has been fully installed, run the test suite:\n",
    "---> pip install pytest\n",
    "\n",
    "\n",
    "---> python -m pytest -v --pyargs zarr\n"
   ]
  },
  {
   "cell_type": "code",
   "execution_count": null,
   "id": "111f0b5d-8631-45c7-90c1-75924c43828c",
   "metadata": {
    "pycharm": {
     "name": "#%%\n"
    }
   },
   "outputs": [],
   "source": []
  }
 ],
 "metadata": {
  "kernelspec": {
   "display_name": "Python 3 (ipykernel)",
   "language": "python",
   "name": "python3"
  },
  "language_info": {
   "codemirror_mode": {
    "name": "ipython",
    "version": 3
   },
   "file_extension": ".py",
   "mimetype": "text/x-python",
   "name": "python",
   "nbconvert_exporter": "python",
   "pygments_lexer": "ipython3",
   "version": "3.10.5"
  }
 },
 "nbformat": 4,
 "nbformat_minor": 5
}